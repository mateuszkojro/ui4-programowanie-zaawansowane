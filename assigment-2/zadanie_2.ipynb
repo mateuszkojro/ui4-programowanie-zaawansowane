{
 "cells": [
  {
   "cell_type": "markdown",
   "metadata": {
    "colab_type": "text",
    "id": "view-in-github"
   },
   "source": [
    "<a href=\"https://colab.research.google.com/github/mateuszkojro/ui4-programowanie-zaawansowane/blob/master/zadanie_2.ipynb\" target=\"_parent\"><img src=\"https://colab.research.google.com/assets/colab-badge.svg\" alt=\"Open In Colab\"/></a>"
   ]
  },
  {
   "cell_type": "markdown",
   "metadata": {
    "id": "mUCc56hj8-zk"
   },
   "source": [
    "# Importing libraries we will use"
   ]
  },
  {
   "cell_type": "code",
   "execution_count": 1,
   "metadata": {
    "id": "fb4PH1gM3Jhf"
   },
   "outputs": [],
   "source": [
    "import torch \n",
    "import torchvision\n",
    "import torch.nn as nn\n",
    "import torch.nn.functional as functional\n",
    "import numpy as np\n",
    "import matplotlib.pyplot as plt"
   ]
  },
  {
   "cell_type": "markdown",
   "metadata": {
    "id": "OOIijeHz9Jtn"
   },
   "source": [
    "Lets download CIFAR100 (subset of CIFAR10)\n",
    "\n",
    "<https://www.cs.toronto.edu/~kriz/cifar.html>\n",
    "\n",
    "and create data loader"
   ]
  },
  {
   "cell_type": "code",
   "execution_count": 2,
   "metadata": {
    "id": "Y7Vrc2mFPSM7"
   },
   "outputs": [],
   "source": [
    "transform = torchvision.transforms.Compose([\n",
    "     torchvision.transforms.ToTensor(),\n",
    "     torchvision.transforms.Normalize((0.5, 0.5, 0.5), (0.5, 0.5, 0.5))\n",
    "     ])"
   ]
  },
  {
   "cell_type": "code",
   "execution_count": 3,
   "metadata": {
    "colab": {
     "base_uri": "https://localhost:8080/",
     "height": 100,
     "referenced_widgets": [
      "92269a33220147c8b803979969e433a6",
      "ffe08598d4814a06a25b6c843aafa39b",
      "1035c6f5bb524b8393197ea6271ea7c2",
      "2d525453de774e33bf7cdf1d40dbf296",
      "ae39b923fe9f4984a0fc759490864720",
      "f1cce36d4f9f44b68acc45db0a622c1c",
      "3879256e008d4520b642c4dbee4f6cc4",
      "eac549df86684272a1d408642b399904"
     ]
    },
    "id": "0WFaEhz53Plo",
    "outputId": "b58f2167-5492-4971-fd52-b1b3e1a1ca1c"
   },
   "outputs": [
    {
     "name": "stdout",
     "output_type": "stream",
     "text": [
      "Files already downloaded and verified\n"
     ]
    }
   ],
   "source": [
    "# sourced from https://pytorch.org/vision/stable/datasets.html\n",
    "cifar = torchvision.datasets.CIFAR10(\"./\",download=True,    transform=transform,)\n",
    "data_loader = torch.utils.data.DataLoader(\n",
    "    cifar,\n",
    "    batch_size=2,\n",
    "    shuffle=True,\n",
    "    num_workers=2\n",
    ")"
   ]
  },
  {
   "cell_type": "markdown",
   "metadata": {},
   "source": [
    "### We can show some example images"
   ]
  },
  {
   "cell_type": "code",
   "execution_count": 4,
   "metadata": {
    "colab": {
     "base_uri": "https://localhost:8080/",
     "height": 239
    },
    "id": "vicRx7EMdAUV",
    "outputId": "3a4b68c1-689c-45a1-e704-d563825f81ad",
    "scrolled": true
   },
   "outputs": [
    {
     "data": {
      "image/png": "[encoded data removed]",
      "text/plain": [
       "<Figure size 432x288 with 1 Axes>"
      ]
     },
     "metadata": {
      "needs_background": "light"
     },
     "output_type": "display_data"
    },
    {
     "name": "stdout",
     "output_type": "stream",
     "text": [
      "  dog  ship\n"
     ]
    }
   ],
   "source": [
    "import matplotlib.pyplot as plt\n",
    "import numpy as np\n",
    "\n",
    "# functions to show an image\n",
    "\n",
    "def imshow(img):\n",
    "    img = img / 2 + 0.5     # unnormalize\n",
    "    npimg = img.numpy()\n",
    "    plt.imshow(np.transpose(npimg, (1, 2, 0)))\n",
    "    plt.show()\n",
    "\n",
    "\n",
    "# get some random images\n",
    "dataiter = iter(data_loader)\n",
    "images, labels = dataiter.next()\n",
    "classes = ('plane', 'car', 'bird', 'cat',\n",
    "           'deer', 'dog', 'frog', 'horse', 'ship', 'truck')\n",
    "# show images\n",
    "imshow(torchvision.utils.make_grid(images))\n",
    "# print labels\n",
    "print(' '.join('%5s' % classes[labels[j]] for j in range(2)))"
   ]
  },
  {
   "cell_type": "markdown",
   "metadata": {},
   "source": [
    " ### Here we are chosing the device"
   ]
  },
  {
   "cell_type": "code",
   "execution_count": 5,
   "metadata": {
    "id": "837vHGhXLxIO"
   },
   "outputs": [],
   "source": [
    "device = 'cuda' if torch.cuda.is_available() else 'cpu'"
   ]
  },
  {
   "cell_type": "markdown",
   "metadata": {},
   "source": [
    "### Here we are definig our custom NN"
   ]
  },
  {
   "cell_type": "code",
   "execution_count": 6,
   "metadata": {
    "id": "ZI7P6UJ_4PNw"
   },
   "outputs": [],
   "source": [
    "  class Model(nn.Module):\n",
    "    def __init__(self):\n",
    "      super(Model,self).__init__()\n",
    "      self.stack = nn.Sequential(\n",
    "        nn.Conv2d(3, 20, 5),\n",
    "        nn.ReLU(),\n",
    "        nn.MaxPool2d(2, 2),\n",
    "        nn.Conv2d(20, 16, 5),\n",
    "        nn.ReLU(),\n",
    "        nn.MaxPool2d(2, 2),\n",
    "        nn.Flatten(),\n",
    "        nn.Linear(16 * 5 * 5, 120),\n",
    "        nn.ReLU(),\n",
    "        nn.Linear(120, 84),\n",
    "        nn.ReLU(),\n",
    "        nn.Linear(84, 10)\n",
    "      )\n",
    "    def forward(self,x):\n",
    "      return self.stack(x)"
   ]
  },
  {
   "cell_type": "markdown",
   "metadata": {},
   "source": [
    "### Lets send the NN to the GPU if available"
   ]
  },
  {
   "cell_type": "code",
   "execution_count": 7,
   "metadata": {
    "colab": {
     "base_uri": "https://localhost:8080/"
    },
    "id": "fl5M9lsrMKFC",
    "outputId": "030d1f87-cac2-4208-a009-2aafbe300dda"
   },
   "outputs": [
    {
     "name": "stdout",
     "output_type": "stream",
     "text": [
      "Model sent to cpu\n"
     ]
    }
   ],
   "source": [
    "model = Model().to(device)\n",
    "print(f\"Model sent to {device}\")"
   ]
  },
  {
   "cell_type": "markdown",
   "metadata": {},
   "source": [
    "### Lets prepare our custom training function"
   ]
  },
  {
   "cell_type": "code",
   "execution_count": 8,
   "metadata": {
    "id": "KgzrZBPzNlnS"
   },
   "outputs": [],
   "source": [
    "def train_loop(model, dataloader, loss_fn, optimizer, LOG=False):\n",
    "  loss_data = []\n",
    "  running_loss = 0\n",
    "  for batch, data in enumerate(dataloader,0):\n",
    "    inputs, label = data[0].to(device), data[1].to(device)\n",
    "    optimizer.zero_grad()\n",
    "    prediction = model(inputs)\n",
    "    loss = loss_fn(prediction, label)\n",
    "    loss.backward()\n",
    "    optimizer.step()\n",
    "    running_loss += loss.item()\n",
    "    if batch % 200 == 199:\n",
    "      print(f\"loss: {running_loss/(200)}\")\n",
    "      loss_data.append(running_loss/(200))\n",
    "      running_loss = 0\n",
    "    if batch == 20000:\n",
    "      return loss_data"
   ]
  },
  {
   "cell_type": "markdown",
   "metadata": {},
   "source": [
    "### Lets train our network"
   ]
  },
  {
   "cell_type": "code",
   "execution_count": 10,
   "metadata": {
    "id": "gz6JZ6KHOVL2"
   },
   "outputs": [
    {
     "name": "stdout",
     "output_type": "stream",
     "text": [
      "loss: 1.599716814160347\n",
      "loss: 1.6532862071692944\n",
      "loss: 1.5236198486387729\n",
      "loss: 1.5270167900621892\n",
      "loss: 1.553229915574193\n",
      "loss: 1.680911353379488\n",
      "loss: 1.5724937227368354\n",
      "loss: 1.4967287930846214\n",
      "loss: 1.6028524823486805\n",
      "loss: 1.5060488205403089\n",
      "loss: 1.5571786084026098\n",
      "loss: 1.516680426672101\n",
      "loss: 1.542584092244506\n",
      "loss: 1.6053472399711608\n",
      "loss: 1.4862578020244837\n",
      "loss: 1.5893384680151939\n",
      "loss: 1.5435637013614179\n",
      "loss: 1.5995574647188187\n",
      "loss: 1.5758037207275628\n",
      "loss: 1.614430694282055\n",
      "loss: 1.5600126126408578\n",
      "loss: 1.496970971748233\n",
      "loss: 1.5796526519209146\n",
      "loss: 1.4990309968590736\n",
      "loss: 1.5023720921203494\n",
      "loss: 1.5490922095626594\n",
      "loss: 1.5471274339407683\n",
      "loss: 1.5519042056798935\n",
      "loss: 1.511512244194746\n",
      "loss: 1.4855289410799741\n",
      "loss: 1.5125232340395451\n",
      "loss: 1.5917848120629787\n",
      "loss: 1.5228742457553743\n",
      "loss: 1.509270608574152\n",
      "loss: 1.5097171440720558\n",
      "loss: 1.4436422910122202\n",
      "loss: 1.437813835144043\n",
      "loss: 1.5533197743445635\n",
      "loss: 1.474479394108057\n",
      "loss: 1.4822105041891336\n",
      "loss: 1.5071657140925527\n",
      "loss: 1.505557534918189\n",
      "loss: 1.504508231859654\n",
      "loss: 1.3924886125698686\n",
      "loss: 1.4439287790283561\n",
      "loss: 1.394364650323987\n",
      "loss: 1.451907849907875\n",
      "loss: 1.5400112445652485\n",
      "loss: 1.5490666856616735\n",
      "loss: 1.4320434512570501\n",
      "loss: 1.4548664271458984\n",
      "loss: 1.4945938480645418\n",
      "loss: 1.519663592800498\n",
      "loss: 1.495516874715686\n",
      "loss: 1.4724470423348248\n",
      "loss: 1.4277265860885382\n",
      "loss: 1.4833947598189114\n",
      "loss: 1.4021056055277585\n",
      "loss: 1.323263948969543\n",
      "loss: 1.5279275274276733\n",
      "loss: 1.4638267976604402\n",
      "loss: 1.3891876438260078\n",
      "loss: 1.3731721560284496\n",
      "loss: 1.4889481189846991\n",
      "loss: 1.5032754489220679\n",
      "loss: 1.399619518071413\n",
      "loss: 1.4698646242544056\n",
      "loss: 1.43255230627954\n",
      "loss: 1.314497171267867\n",
      "loss: 1.4027455592341722\n",
      "loss: 1.421445554792881\n",
      "loss: 1.3929727615136653\n",
      "loss: 1.4385999205335975\n",
      "loss: 1.405652940887958\n",
      "loss: 1.4649907809495926\n",
      "loss: 1.4067461237311363\n",
      "loss: 1.4231825458258391\n",
      "loss: 1.3944806098565459\n",
      "loss: 1.433119840323925\n",
      "loss: 1.3776815230026842\n",
      "loss: 1.3548447003215551\n",
      "loss: 1.3230653643608092\n",
      "loss: 1.4728057919815183\n",
      "loss: 1.4117488703131675\n",
      "loss: 1.337443608287722\n",
      "loss: 1.3055205250065773\n",
      "loss: 1.4111293839663268\n",
      "loss: 1.3530310310050846\n",
      "loss: 1.42703396236524\n",
      "loss: 1.399099326580763\n",
      "loss: 1.4199592692777514\n",
      "loss: 1.4202494990825654\n",
      "loss: 1.3277219547703862\n",
      "loss: 1.3849743488058448\n",
      "loss: 1.3043249324709176\n",
      "loss: 1.3458543056994676\n",
      "loss: 1.3406797698885202\n",
      "loss: 1.3739610941894354\n",
      "loss: 1.3565773913962766\n",
      "loss: 1.3816972563788295\n"
     ]
    }
   ],
   "source": [
    "learning_rate = 0.001\n",
    "\n",
    "loss_fn = nn.CrossEntropyLoss()\n",
    "optimizer = torch.optim.SGD(model.parameters(), lr=learning_rate, momentum=0.9)\n",
    "\n",
    "data = train_loop(\n",
    "                model=model,\n",
    "                dataloader=data_loader,\n",
    "                loss_fn=loss_fn,\n",
    "                optimizer=optimizer,\n",
    "                LOG=False\n",
    "           )\n"
   ]
  },
  {
   "cell_type": "markdown",
   "metadata": {},
   "source": [
    "### We can plot the loss over time"
   ]
  },
  {
   "cell_type": "code",
   "execution_count": 11,
   "metadata": {},
   "outputs": [
    {
     "data": {
      "image/png": "[encoded data removed]",
      "text/plain": [
       "<Figure size 432x288 with 1 Axes>"
      ]
     },
     "metadata": {
      "needs_background": "light"
     },
     "output_type": "display_data"
    }
   ],
   "source": [
    "plt.yscale('linear')\n",
    "plt.title(\"Loss over time\")\n",
    "plt.xlabel(\"Iteration times 2000\")\n",
    "plt.ylabel(\"Loss\")\n",
    "plt.plot(data, color=\"r\")\n",
    "plt.show()"
   ]
  },
  {
   "cell_type": "markdown",
   "metadata": {},
   "source": [
    "### Lets show some images with computed descriptions"
   ]
  },
  {
   "cell_type": "code",
   "execution_count": null,
   "metadata": {
    "colab": {
     "base_uri": "https://localhost:8080/",
     "height": 273
    },
    "id": "ZaW-kdQTjPn4",
    "outputId": "c63f31a5-c01a-4b48-d50b-d77418278ca6"
   },
   "outputs": [],
   "source": [
    "dataiter = iter(data_loader)\n",
    "images, labels = dataiter.next()\n",
    "inputs, label = images.to(device), labels.to(device)\n",
    "\n",
    "# print images\n",
    "imshow(torchvision.utils.make_grid(images))\n",
    "result = model(inputs)\n",
    "_, predicted = torch.max(result, 1)\n",
    "print(predicted)\n",
    "print(classes[predicted[0]],classes[predicted[1]])\n",
    "print(labels)"
   ]
  },
  {
   "cell_type": "markdown",
   "metadata": {},
   "source": [
    "### Lets check the performance of our model"
   ]
  },
  {
   "cell_type": "code",
   "execution_count": null,
   "metadata": {},
   "outputs": [],
   "source": [
    "acc = 0\n",
    "for batch, data in enumerate(data_loader):\n",
    "    inputs, label = data\n",
    "    prediction = model(inputs)\n",
    "    prediction = prediction.detach().numpy()\n",
    "    \n",
    "    if np.argmax(prediction) == label.item():\n",
    "        acc +=1\n",
    "\n",
    "    if batch == len(data_loader)-1:\n",
    "        break\n",
    "        \n",
    "import statistics\n",
    "print(f\"Performance {acc/(len(data_loader)-1)}\")"
   ]
  }
 ],
 "metadata": {
  "colab": {
   "include_colab_link": true,
   "name": "zadanie_2.ipynb",
   "provenance": []
  },
  "kernelspec": {
   "display_name": "Python 3",
   "language": "python",
   "name": "python3"
  },
  "language_info": {
   "codemirror_mode": {
    "name": "ipython",
    "version": 3
   },
   "file_extension": ".py",
   "mimetype": "text/x-python",
   "name": "python",
   "nbconvert_exporter": "python",
   "pygments_lexer": "ipython3",
   "version": "3.9.5"
  },
  "widgets": {
   "application/vnd.jupyter.widget-state+json": {
    "1035c6f5bb524b8393197ea6271ea7c2": {
     "model_module": "@jupyter-widgets/controls",
     "model_name": "FloatProgressModel",
     "state": {
      "_dom_classes": [],
      "_model_module": "@jupyter-widgets/controls",
      "_model_module_version": "1.5.0",
      "_model_name": "FloatProgressModel",
      "_view_count": null,
      "_view_module": "@jupyter-widgets/controls",
      "_view_module_version": "1.5.0",
      "_view_name": "ProgressView",
      "bar_style": "success",
      "description": "",
      "description_tooltip": null,
      "layout": "IPY_MODEL_f1cce36d4f9f44b68acc45db0a622c1c",
      "max": 170498071,
      "min": 0,
      "orientation": "horizontal",
      "style": "IPY_MODEL_ae39b923fe9f4984a0fc759490864720",
      "value": 170498071
     }
    },
    "2d525453de774e33bf7cdf1d40dbf296": {
     "model_module": "@jupyter-widgets/controls",
     "model_name": "HTMLModel",
     "state": {
      "_dom_classes": [],
      "_model_module": "@jupyter-widgets/controls",
      "_model_module_version": "1.5.0",
      "_model_name": "HTMLModel",
      "_view_count": null,
      "_view_module": "@jupyter-widgets/controls",
      "_view_module_version": "1.5.0",
      "_view_name": "HTMLView",
      "description": "",
      "description_tooltip": null,
      "layout": "IPY_MODEL_eac549df86684272a1d408642b399904",
      "placeholder": "​",
      "style": "IPY_MODEL_3879256e008d4520b642c4dbee4f6cc4",
      "value": " 170499072/? [00:09&lt;00:00, 18471130.84it/s]"
     }
    },
    "3879256e008d4520b642c4dbee4f6cc4": {
     "model_module": "@jupyter-widgets/controls",
     "model_name": "DescriptionStyleModel",
     "state": {
      "_model_module": "@jupyter-widgets/controls",
      "_model_module_version": "1.5.0",
      "_model_name": "DescriptionStyleModel",
      "_view_count": null,
      "_view_module": "@jupyter-widgets/base",
      "_view_module_version": "1.2.0",
      "_view_name": "StyleView",
      "description_width": ""
     }
    },
    "92269a33220147c8b803979969e433a6": {
     "model_module": "@jupyter-widgets/controls",
     "model_name": "HBoxModel",
     "state": {
      "_dom_classes": [],
      "_model_module": "@jupyter-widgets/controls",
      "_model_module_version": "1.5.0",
      "_model_name": "HBoxModel",
      "_view_count": null,
      "_view_module": "@jupyter-widgets/controls",
      "_view_module_version": "1.5.0",
      "_view_name": "HBoxView",
      "box_style": "",
      "children": [
       "IPY_MODEL_1035c6f5bb524b8393197ea6271ea7c2",
       "IPY_MODEL_2d525453de774e33bf7cdf1d40dbf296"
      ],
      "layout": "IPY_MODEL_ffe08598d4814a06a25b6c843aafa39b"
     }
    },
    "ae39b923fe9f4984a0fc759490864720": {
     "model_module": "@jupyter-widgets/controls",
     "model_name": "ProgressStyleModel",
     "state": {
      "_model_module": "@jupyter-widgets/controls",
      "_model_module_version": "1.5.0",
      "_model_name": "ProgressStyleModel",
      "_view_count": null,
      "_view_module": "@jupyter-widgets/base",
      "_view_module_version": "1.2.0",
      "_view_name": "StyleView",
      "bar_color": null,
      "description_width": "initial"
     }
    },
    "eac549df86684272a1d408642b399904": {
     "model_module": "@jupyter-widgets/base",
     "model_name": "LayoutModel",
     "state": {
      "_model_module": "@jupyter-widgets/base",
      "_model_module_version": "1.2.0",
      "_model_name": "LayoutModel",
      "_view_count": null,
      "_view_module": "@jupyter-widgets/base",
      "_view_module_version": "1.2.0",
      "_view_name": "LayoutView",
      "align_content": null,
      "align_items": null,
      "align_self": null,
      "border": null,
      "bottom": null,
      "display": null,
      "flex": null,
      "flex_flow": null,
      "grid_area": null,
      "grid_auto_columns": null,
      "grid_auto_flow": null,
      "grid_auto_rows": null,
      "grid_column": null,
      "grid_gap": null,
      "grid_row": null,
      "grid_template_areas": null,
      "grid_template_columns": null,
      "grid_template_rows": null,
      "height": null,
      "justify_content": null,
      "justify_items": null,
      "left": null,
      "margin": null,
      "max_height": null,
      "max_width": null,
      "min_height": null,
      "min_width": null,
      "object_fit": null,
      "object_position": null,
      "order": null,
      "overflow": null,
      "overflow_x": null,
      "overflow_y": null,
      "padding": null,
      "right": null,
      "top": null,
      "visibility": null,
      "width": null
     }
    },
    "f1cce36d4f9f44b68acc45db0a622c1c": {
     "model_module": "@jupyter-widgets/base",
     "model_name": "LayoutModel",
     "state": {
      "_model_module": "@jupyter-widgets/base",
      "_model_module_version": "1.2.0",
      "_model_name": "LayoutModel",
      "_view_count": null,
      "_view_module": "@jupyter-widgets/base",
      "_view_module_version": "1.2.0",
      "_view_name": "LayoutView",
      "align_content": null,
      "align_items": null,
      "align_self": null,
      "border": null,
      "bottom": null,
      "display": null,
      "flex": null,
      "flex_flow": null,
      "grid_area": null,
      "grid_auto_columns": null,
      "grid_auto_flow": null,
      "grid_auto_rows": null,
      "grid_column": null,
      "grid_gap": null,
      "grid_row": null,
      "grid_template_areas": null,
      "grid_template_columns": null,
      "grid_template_rows": null,
      "height": null,
      "justify_content": null,
      "justify_items": null,
      "left": null,
      "margin": null,
      "max_height": null,
      "max_width": null,
      "min_height": null,
      "min_width": null,
      "object_fit": null,
      "object_position": null,
      "order": null,
      "overflow": null,
      "overflow_x": null,
      "overflow_y": null,
      "padding": null,
      "right": null,
      "top": null,
      "visibility": null,
      "width": null
     }
    },
    "ffe08598d4814a06a25b6c843aafa39b": {
     "model_module": "@jupyter-widgets/base",
     "model_name": "LayoutModel",
     "state": {
      "_model_module": "@jupyter-widgets/base",
      "_model_module_version": "1.2.0",
      "_model_name": "LayoutModel",
      "_view_count": null,
      "_view_module": "@jupyter-widgets/base",
      "_view_module_version": "1.2.0",
      "_view_name": "LayoutView",
      "align_content": null,
      "align_items": null,
      "align_self": null,
      "border": null,
      "bottom": null,
      "display": null,
      "flex": null,
      "flex_flow": null,
      "grid_area": null,
      "grid_auto_columns": null,
      "grid_auto_flow": null,
      "grid_auto_rows": null,
      "grid_column": null,
      "grid_gap": null,
      "grid_row": null,
      "grid_template_areas": null,
      "grid_template_columns": null,
      "grid_template_rows": null,
      "height": null,
      "justify_content": null,
      "justify_items": null,
      "left": null,
      "margin": null,
      "max_height": null,
      "max_width": null,
      "min_height": null,
      "min_width": null,
      "object_fit": null,
      "object_position": null,
      "order": null,
      "overflow": null,
      "overflow_x": null,
      "overflow_y": null,
      "padding": null,
      "right": null,
      "top": null,
      "visibility": null,
      "width": null
     }
    }
   }
  }
 },
 "nbformat": 4,
 "nbformat_minor": 1
}
