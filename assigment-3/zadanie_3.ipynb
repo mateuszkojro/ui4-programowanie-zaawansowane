{
 "cells": [
  {
   "cell_type": "code",
   "execution_count": 1,
   "metadata": {},
   "outputs": [],
   "source": [
    "import torch \n",
    "import torchvision\n",
    "import torch.nn as nn\n",
    "import torch.nn.functional as functional\n",
    "import numpy as np\n",
    "import matplotlib.pyplot as plt\n",
    "import random"
   ]
  },
  {
   "cell_type": "code",
   "execution_count": 2,
   "metadata": {},
   "outputs": [],
   "source": [
    "raw_data = np.load(\"data.npy\")"
   ]
  },
  {
   "cell_type": "code",
   "execution_count": 3,
   "metadata": {},
   "outputs": [
    {
     "name": "stdout",
     "output_type": "stream",
     "text": [
      "{'frame_num': 0, 'action': 1, 'team_controlling_ball': 2, 'ball_x': 3, 'ball_y': 4, 'num_players_team1': 5, 'num_players_team2': 6, 'scene': 7, 'no_team1_players': 31, 'team1_player0x': 9, 'team1_player0y': 10, 'team1_player1x': 11, 'team1_player1y': 12, 'team1_player2x': 13, 'team1_player2y': 14, 'team1_player3x': 15, 'team1_player3y': 16, 'team1_player4x': 17, 'team1_player4y': 18, 'team1_player5x': 19, 'team1_player5y': 20, 'team1_player6x': 21, 'team1_player6y': 22, 'team1_player7x': 23, 'team1_player7y': 24, 'team1_player8x': 25, 'team1_player8y': 26, 'team1_player9x': 27, 'team1_player9y': 28, 'team1_player10x': 29, 'team1_player10y': 30, 'team2_player0x': 32, 'team2_player0y': 33, 'team2_player1x': 34, 'team2_player1y': 35, 'team2_player2x': 36, 'team2_player2y': 37, 'team2_player3x': 38, 'team2_player3y': 39, 'team2_player4x': 40, 'team2_player4y': 41, 'team2_player5x': 42, 'team2_player5y': 43, 'team2_player6x': 44, 'team2_player6y': 45, 'team2_player7x': 46, 'team2_player7y': 47, 'team2_player8x': 48, 'team2_player8y': 49, 'team2_player9x': 50, 'team2_player9y': 51, 'team2_player10x': 52, 'team2_player10y': 53}\n"
     ]
    }
   ],
   "source": [
    "\n",
    "classes = ['frame_num', 'action', 'team_controlling_ball', 'ball_x', 'ball_y', 'num_players_team1', 'num_players_team2', 'scene', 'no_team1_players']\n",
    "\n",
    "for i in range(11):\n",
    "    classes.append('team1_player' + str(i) + 'x')\n",
    "    classes.append('team1_player' + str(i) + 'y')\n",
    "\n",
    "classes.append('no_team1_players')\n",
    "\n",
    "for i in range(11):\n",
    "    classes.append('team2_player' + str(i) + 'x')\n",
    "    classes.append('team2_player' + str(i) + 'y')\n",
    "    \n",
    "class_by_name = {} \n",
    "for i, item in enumerate(classes):\n",
    "    class_by_name[item] = i\n",
    "\n",
    "print(class_by_name)\n"
   ]
  },
  {
   "cell_type": "code",
   "execution_count": 4,
   "metadata": {
    "tags": []
   },
   "outputs": [
    {
     "name": "stdout",
     "output_type": "stream",
     "text": [
      "idx 0\t name: frame_num\t\t\tvalue: 8707.0\n",
      "idx 1\t name: action\t\t\tvalue: 19\n",
      "idx 2\t name: team_controlling_ball\t\t\tvalue: 2.0\n",
      "idx 3\t name: ball_x\t\t\tvalue: 0.4796875\n",
      "idx 4\t name: ball_y\t\t\tvalue: 0.5388888888888889\n",
      "idx 5\t name: num_players_team1\t\t\tvalue: 6.0\n",
      "idx 6\t name: num_players_team2\t\t\tvalue: 11.0\n",
      "idx 7\t name: scene\t\t\tvalue: Midfield\n",
      "idx 8\t name: no_team1_players\t\t\tvalue: 6.0\n",
      "idx 9\t name: team1_player0x\t\t\tvalue: 0.809375\n",
      "idx 10\t name: team1_player0y\t\t\tvalue: 0.3763888888888889\n",
      "idx 11\t name: team1_player1x\t\t\tvalue: 0.96875\n",
      "idx 12\t name: team1_player1y\t\t\tvalue: 0.6041666666666666\n",
      "idx 13\t name: team1_player2x\t\t\tvalue: 0.4640625\n",
      "idx 14\t name: team1_player2y\t\t\tvalue: 0.40694444444444444\n",
      "idx 15\t name: team1_player3x\t\t\tvalue: 0.78828125\n",
      "idx 16\t name: team1_player3y\t\t\tvalue: 0.45416666666666666\n",
      "idx 17\t name: team1_player4x\t\t\tvalue: 0.4390625\n",
      "idx 18\t name: team1_player4y\t\t\tvalue: 0.44166666666666665\n",
      "idx 19\t name: team1_player5x\t\t\tvalue: 0.71171875\n",
      "idx 20\t name: team1_player5y\t\t\tvalue: 0.49027777777777776\n",
      "idx 21\t name: team1_player6x\t\t\tvalue: 0.0\n",
      "idx 22\t name: team1_player6y\t\t\tvalue: 0.0\n",
      "idx 23\t name: team1_player7x\t\t\tvalue: 0.0\n",
      "idx 24\t name: team1_player7y\t\t\tvalue: 0.0\n",
      "idx 25\t name: team1_player8x\t\t\tvalue: 0.0\n",
      "idx 26\t name: team1_player8y\t\t\tvalue: 0.0\n",
      "idx 27\t name: team1_player9x\t\t\tvalue: 0.0\n",
      "idx 28\t name: team1_player9y\t\t\tvalue: 0.0\n",
      "idx 29\t name: team1_player10x\t\t\tvalue: 0.0\n",
      "idx 30\t name: team1_player10y\t\t\tvalue: 0.0\n",
      "idx 31\t name: no_team1_players\t\t\tvalue: 11.0\n",
      "idx 32\t name: team2_player0x\t\t\tvalue: 0.56796875\n",
      "idx 33\t name: team2_player0y\t\t\tvalue: 0.575\n",
      "idx 34\t name: team2_player1x\t\t\tvalue: 0.021875\n",
      "idx 35\t name: team2_player1y\t\t\tvalue: 0.7708333333333334\n",
      "idx 36\t name: team2_player2x\t\t\tvalue: 0.99765625\n",
      "idx 37\t name: team2_player2y\t\t\tvalue: 0.49583333333333335\n",
      "idx 38\t name: team2_player3x\t\t\tvalue: 0.6859375\n",
      "idx 39\t name: team2_player3y\t\t\tvalue: 0.36666666666666664\n",
      "idx 40\t name: team2_player4x\t\t\tvalue: 0.56328125\n",
      "idx 41\t name: team2_player4y\t\t\tvalue: 0.5819444444444445\n",
      "idx 42\t name: team2_player5x\t\t\tvalue: 0.79296875\n",
      "idx 43\t name: team2_player5y\t\t\tvalue: 0.6166666666666667\n",
      "idx 44\t name: team2_player6x\t\t\tvalue: 0.86953125\n",
      "idx 45\t name: team2_player6y\t\t\tvalue: 0.47638888888888886\n",
      "idx 46\t name: team2_player7x\t\t\tvalue: 0.384375\n",
      "idx 47\t name: team2_player7y\t\t\tvalue: 0.41388888888888886\n",
      "idx 48\t name: team2_player8x\t\t\tvalue: 0.41640625\n",
      "idx 49\t name: team2_player8y\t\t\tvalue: 0.44305555555555554\n",
      "idx 50\t name: team2_player9x\t\t\tvalue: 0.1328125\n",
      "idx 51\t name: team2_player9y\t\t\tvalue: 0.40555555555555556\n",
      "idx 52\t name: team2_player10x\t\t\tvalue: 0.484375\n",
      "idx 53\t name: team2_player10y\t\t\tvalue: 0.5472222222222223\n"
     ]
    }
   ],
   "source": [
    "\n",
    "for i, value in enumerate(raw_data[0]):\n",
    "    print(f\"idx {i}\\t name: {classes[i]}\\t\\t\\tvalue: {value}\")"
   ]
  },
  {
   "cell_type": "code",
   "execution_count": 5,
   "metadata": {},
   "outputs": [],
   "source": [
    "import os\n",
    "from torch.utils.data import Dataset\n",
    "\n",
    "class FootballData(Dataset):\n",
    "\n",
    "    def idx_to_name(self, idx):\n",
    "        return f\"{self.out_path}/record{idx}.npy\"\n",
    "    \n",
    "    def __init__(self, path, out_path):\n",
    "        self.out_path = out_path if out_path else './barca_dataset'\n",
    "        raw_data = np.load(path)\n",
    "        self.size = len(raw_data)\n",
    "        if not os.path.isdir(self.out_path):\n",
    "            os.mkdir(self.out_path)\n",
    "        for i, record in enumerate(raw_data):\n",
    "            name = self.idx_to_name(i)\n",
    "            if not os.path.isfile(name):\n",
    "                np.save(name, record)\n",
    "\n",
    "    def __len__(self):\n",
    "        return self.size\n",
    "\n",
    "    def __getitem__(self, idx):\n",
    "        # data = np.load(\"./barca_dataset/record\" + str(idx) + \".npy\")\n",
    "        idx = random.randint(0,41)\n",
    "        data = np.load(self.idx_to_name(idx))\n",
    "        # inputs = np.concatenate( (data[9:31], data[32:], data[3:5])).astype(np.float32) #todo we need to check those indecies\n",
    "        inputs = [(float(data[3])),(float(data[4]))]\n",
    "        inputs = np.array([inputs],dtype=np.float32)\n",
    "        inputs = torch.from_numpy(inputs)\n",
    "        # if data[2] == 0:\n",
    "        #     inputs = torch.Tensor([[1,0]])\n",
    "        # else:\n",
    "        #     inputs = torch.Tensor([[0,1]])\n",
    "        # label = np.array([[0.0 for x in range(41)]])\n",
    "        # label[0,int(data[1])] = 10.0\n",
    "        label = torch.from_numpy(np.array([int(data[1])]))\n",
    "        return inputs.float(), label"
   ]
  },
  {
   "cell_type": "code",
   "execution_count": 6,
   "metadata": {
    "tags": []
   },
   "outputs": [],
   "source": [
    "data_loader = FootballData(\"./data.npy\", out_path=\"data_unloaded\")"
   ]
  },
  {
   "cell_type": "code",
   "execution_count": 7,
   "metadata": {},
   "outputs": [],
   "source": [
    "class PossesionClssifier(nn.Module):\n",
    "    def __init__(self):\n",
    "      super(PossesionClssifier,self).__init__()\n",
    "      self.stack = nn.Sequential(\n",
    "        nn.Linear(2,30,bias=False),\n",
    "        nn.ReLU(),\n",
    "        nn.Linear(30,30,bias=False),\n",
    "#         nn.ReLU(),\n",
    "        nn.Softmax(dim=1),\n",
    "        nn.Linear(30, 41),\n",
    "#         nn.Softmax(dim=1)\n",
    "      )\n",
    "    def forward(self,x):\n",
    "      return self.stack(x)\n",
    "\n",
    "model = PossesionClssifier()"
   ]
  },
  {
   "cell_type": "code",
   "execution_count": 8,
   "metadata": {},
   "outputs": [],
   "source": [
    "def train_loop(model, dataloader, loss_fn, optimizer, log_freq=2000):\n",
    "  loss_data = []\n",
    "  running_loss = 0\n",
    "  for batch, data in enumerate(dataloader,0):\n",
    "    # inputs, label = data[0].to(device), data[1].to(device)\n",
    "    inputs, label = data\n",
    "    optimizer.zero_grad()\n",
    "    prediction = model(inputs)\n",
    "    loss = loss_fn(prediction, label).float()\n",
    "    loss.backward()\n",
    "    optimizer.step()\n",
    "    running_loss += loss.item()\n",
    "    if batch % log_freq == log_freq-1:\n",
    "      print(f\"Loss: {running_loss/(log_freq):.4f},\\t{100 * batch/len(dataloader):.0f}% of data complete\")\n",
    "      loss_data.append(running_loss/(log_freq))\n",
    "      running_loss = 0\n",
    "    if batch == 50_000:\n",
    "       return loss_data"
   ]
  },
  {
   "cell_type": "code",
   "execution_count": 9,
   "metadata": {
    "tags": []
   },
   "outputs": [
    {
     "name": "stdout",
     "output_type": "stream",
     "text": [
      "Loss: 1.4417,\t4% of data complete\n",
      "Loss: 0.7856,\t8% of data complete\n",
      "Loss: 0.7405,\t12% of data complete\n",
      "Loss: 0.7253,\t16% of data complete\n",
      "Loss: 0.7169,\t20% of data complete\n",
      "Loss: 0.7121,\t23% of data complete\n",
      "Loss: 0.7087,\t27% of data complete\n",
      "Loss: 0.7061,\t31% of data complete\n",
      "Loss: 0.7044,\t35% of data complete\n",
      "Loss: 0.7034,\t39% of data complete\n",
      "Loss: 0.7016,\t43% of data complete\n",
      "Loss: 0.6998,\t47% of data complete\n",
      "Loss: 0.6996,\t51% of data complete\n",
      "Loss: 0.6974,\t55% of data complete\n",
      "Loss: 0.6962,\t59% of data complete\n",
      "Loss: 0.6949,\t63% of data complete\n",
      "Loss: 0.6939,\t66% of data complete\n",
      "Loss: 0.6914,\t70% of data complete\n",
      "Loss: 0.6875,\t74% of data complete\n",
      "Loss: 0.6774,\t78% of data complete\n",
      "Loss: 0.6294,\t82% of data complete\n",
      "Loss: 0.5186,\t86% of data complete\n",
      "Loss: 0.4186,\t90% of data complete\n",
      "Loss: 0.3419,\t94% of data complete\n",
      "Loss: 0.2609,\t98% of data complete\n",
      "Loss: 0.2211,\t4% of data complete\n",
      "Loss: 0.2049,\t8% of data complete\n",
      "Loss: 0.1625,\t12% of data complete\n",
      "Loss: 0.1788,\t16% of data complete\n",
      "Loss: 0.1692,\t20% of data complete\n",
      "Loss: 0.1466,\t23% of data complete\n",
      "Loss: 0.1547,\t27% of data complete\n",
      "Loss: 0.1564,\t31% of data complete\n",
      "Loss: 0.1519,\t35% of data complete\n",
      "Loss: 0.1356,\t39% of data complete\n",
      "Loss: 0.1318,\t43% of data complete\n",
      "Loss: 0.1441,\t47% of data complete\n",
      "Loss: 0.1291,\t51% of data complete\n",
      "Loss: 0.1144,\t55% of data complete\n",
      "Loss: 0.1120,\t59% of data complete\n",
      "Loss: 0.1179,\t63% of data complete\n",
      "Loss: 0.0951,\t66% of data complete\n",
      "Loss: 0.1057,\t70% of data complete\n",
      "Loss: 0.0941,\t74% of data complete\n",
      "Loss: 0.0924,\t78% of data complete\n",
      "Loss: 0.0995,\t82% of data complete\n",
      "Loss: 0.0750,\t86% of data complete\n",
      "Loss: 0.0896,\t90% of data complete\n",
      "Loss: 0.0786,\t94% of data complete\n",
      "Loss: 0.0893,\t98% of data complete\n"
     ]
    }
   ],
   "source": [
    "learning_rate = 0.01\n",
    "loss_fn = nn.CrossEntropyLoss()\n",
    "# loss_fn = nn.NLLLoss()\n",
    "optimizer = torch.optim.SGD(model.parameters(), lr=learning_rate)\n",
    "\n",
    "data = train_loop(model=model,\n",
    "           dataloader=data_loader,\n",
    "           loss_fn=loss_fn,\n",
    "           optimizer=optimizer)\n",
    "data2 = train_loop(model=model,\n",
    "           dataloader=data_loader,\n",
    "           loss_fn=loss_fn,\n",
    "           optimizer=optimizer)"
   ]
  },
  {
   "cell_type": "code",
   "execution_count": 13,
   "metadata": {
    "tags": []
   },
   "outputs": [
    {
     "data": {
      "image/png": "[encoded data removed]",
      "text/plain": [
       "<Figure size 432x288 with 1 Axes>"
      ]
     },
     "metadata": {
      "needs_background": "light"
     },
     "output_type": "display_data"
    }
   ],
   "source": [
    "plt.xlabel(\"Iteration x 2000\")\n",
    "plt.ylabel(\"Loss\")\n",
    "end = data + data2\n",
    "plt.plot(end)\n",
    "plt.show()"
   ]
  },
  {
   "cell_type": "code",
   "execution_count": 14,
   "metadata": {},
   "outputs": [
    {
     "name": "stdout",
     "output_type": "stream",
     "text": [
      "Performance 1\n"
     ]
    }
   ],
   "source": [
    "\n",
    "performance = []\n",
    "for batch, data in enumerate(data_loader,0):\n",
    "    inputs, label = data\n",
    "    prediction = model(inputs)\n",
    "    prediction = prediction.detach().numpy()\n",
    "    \n",
    "    if np.argmax(prediction) == label.item():\n",
    "        performance.append(1)\n",
    "    else:\n",
    "        performance.append(0)\n",
    "    \n",
    "    if batch == len(data_loader)-1:\n",
    "        break\n",
    "        \n",
    "import statistics\n",
    "print(f\"Performance {statistics.mean(performance)}\")"
   ]
  },
  {
   "cell_type": "code",
   "execution_count": null,
   "metadata": {},
   "outputs": [],
   "source": []
  }
 ],
 "metadata": {
  "kernelspec": {
   "display_name": "Python 3",
   "language": "python",
   "name": "python3"
  },
  "language_info": {
   "codemirror_mode": {
    "name": "ipython",
    "version": 3
   },
   "file_extension": ".py",
   "mimetype": "text/x-python",
   "name": "python",
   "nbconvert_exporter": "python",
   "pygments_lexer": "ipython3",
   "version": "3.9.5"
  }
 },
 "nbformat": 4,
 "nbformat_minor": 2
}
