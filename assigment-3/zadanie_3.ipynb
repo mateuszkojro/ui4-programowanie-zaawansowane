{
 "metadata": {
  "language_info": {
   "codemirror_mode": {
    "name": "ipython",
    "version": 3
   },
   "file_extension": ".py",
   "mimetype": "text/x-python",
   "name": "python",
   "nbconvert_exporter": "python",
   "pygments_lexer": "ipython3",
   "version": "3.9.5"
  },
  "orig_nbformat": 2,
  "kernelspec": {
   "name": "python395jvsc74a57bd01bc7a995f5b5d23844cf304b488d29f0b890986b6490ed35f9c4a6210b1a50f4",
   "display_name": "Python 3.9.5 64-bit"
  }
 },
 "nbformat": 4,
 "nbformat_minor": 2,
 "cells": [
  {
   "cell_type": "code",
   "execution_count": 1,
   "metadata": {},
   "outputs": [],
   "source": [
    "import torch \n",
    "import torchvision\n",
    "import torch.nn as nn\n",
    "import torch.nn.functional as functional\n",
    "import numpy as np\n",
    "import matplotlib.pyplot as plt"
   ]
  },
  {
   "cell_type": "code",
   "execution_count": 2,
   "metadata": {},
   "outputs": [],
   "source": [
    "raw_data = np.load(\"data.npy\")"
   ]
  },
  {
   "cell_type": "code",
   "execution_count": 3,
   "metadata": {},
   "outputs": [],
   "source": [
    "\n",
    "classes = ['frame_num', 'action', 'team_controlling_ball', 'ball_x', 'ball_y', 'num_players_team1', 'num_players_team2', 'scene', 'no_team1_players']\n",
    "\n",
    "for i in range(11):\n",
    "    classes.append('team1_player' + str(i) + 'x')\n",
    "    classes.append('team1_player' + str(i) + 'y')\n",
    "\n",
    "classes.append('no_team1_players')\n",
    "\n",
    "for i in range(11):\n",
    "    classes.append('team2_player' + str(i) + 'x')\n",
    "    classes.append('team2_player' + str(i) + 'y')"
   ]
  },
  {
   "cell_type": "code",
   "execution_count": 4,
   "metadata": {},
   "outputs": [
    {
     "output_type": "stream",
     "name": "stdout",
     "text": [
      "idx 0\t name: frame_num\t\t\tvalue: 151271.0\nidx 1\t name: action\t\t\tvalue: 20\nidx 2\t name: team_controlling_ball\t\t\tvalue: 2.0\nidx 3\t name: ball_x\t\t\tvalue: 0.54453125\nidx 4\t name: ball_y\t\t\tvalue: 0.5402777777777777\nidx 5\t name: num_players_team1\t\t\tvalue: 1.0\nidx 6\t name: num_players_team2\t\t\tvalue: 8.0\nidx 7\t name: scene\t\t\tvalue: Midfield\nidx 8\t name: no_team1_players\t\t\tvalue: 1.0\nidx 9\t name: team1_player0x\t\t\tvalue: 0.94765625\nidx 10\t name: team1_player0y\t\t\tvalue: 0.5555555555555556\nidx 11\t name: team1_player1x\t\t\tvalue: 0.0\nidx 12\t name: team1_player1y\t\t\tvalue: 0.0\nidx 13\t name: team1_player2x\t\t\tvalue: 0.0\nidx 14\t name: team1_player2y\t\t\tvalue: 0.0\nidx 15\t name: team1_player3x\t\t\tvalue: 0.0\nidx 16\t name: team1_player3y\t\t\tvalue: 0.0\nidx 17\t name: team1_player4x\t\t\tvalue: 0.0\nidx 18\t name: team1_player4y\t\t\tvalue: 0.0\nidx 19\t name: team1_player5x\t\t\tvalue: 0.0\nidx 20\t name: team1_player5y\t\t\tvalue: 0.0\nidx 21\t name: team1_player6x\t\t\tvalue: 0.0\nidx 22\t name: team1_player6y\t\t\tvalue: 0.0\nidx 23\t name: team1_player7x\t\t\tvalue: 0.0\nidx 24\t name: team1_player7y\t\t\tvalue: 0.0\nidx 25\t name: team1_player8x\t\t\tvalue: 0.0\nidx 26\t name: team1_player8y\t\t\tvalue: 0.0\nidx 27\t name: team1_player9x\t\t\tvalue: 0.0\nidx 28\t name: team1_player9y\t\t\tvalue: 0.0\nidx 29\t name: team1_player10x\t\t\tvalue: 0.0\nidx 30\t name: team1_player10y\t\t\tvalue: 0.0\nidx 31\t name: no_team1_players\t\t\tvalue: 8.0\nidx 32\t name: team2_player0x\t\t\tvalue: 0.43359375\nidx 33\t name: team2_player0y\t\t\tvalue: 0.5527777777777778\nidx 34\t name: team2_player1x\t\t\tvalue: 0.8859375\nidx 35\t name: team2_player1y\t\t\tvalue: 0.5347222222222222\nidx 36\t name: team2_player2x\t\t\tvalue: 0.66875\nidx 37\t name: team2_player2y\t\t\tvalue: 0.5527777777777778\nidx 38\t name: team2_player3x\t\t\tvalue: 0.3765625\nidx 39\t name: team2_player3y\t\t\tvalue: 0.5708333333333333\nidx 40\t name: team2_player4x\t\t\tvalue: 0.165625\nidx 41\t name: team2_player4y\t\t\tvalue: 0.5986111111111111\nidx 42\t name: team2_player5x\t\t\tvalue: 0.475\nidx 43\t name: team2_player5y\t\t\tvalue: 0.5652777777777778\nidx 44\t name: team2_player6x\t\t\tvalue: 0.7484375\nidx 45\t name: team2_player6y\t\t\tvalue: 0.6458333333333334\nidx 46\t name: team2_player7x\t\t\tvalue: 0.6328125\nidx 47\t name: team2_player7y\t\t\tvalue: 0.6166666666666667\nidx 48\t name: team2_player8x\t\t\tvalue: 0.0\nidx 49\t name: team2_player8y\t\t\tvalue: 0.0\nidx 50\t name: team2_player9x\t\t\tvalue: 0.0\nidx 51\t name: team2_player9y\t\t\tvalue: 0.0\nidx 52\t name: team2_player10x\t\t\tvalue: 0.0\nidx 53\t name: team2_player10y\t\t\tvalue: 0.0\n"
     ]
    }
   ],
   "source": [
    "# for i in range(500):\n",
    "#     print(raw_data[i][1])\n",
    "\n",
    "\n",
    "for i, value in enumerate(raw_data[-1]):\n",
    "    print(f\"idx {i}\\t name: {classes[i]}\\t\\t\\tvalue: {value}\")"
   ]
  },
  {
   "cell_type": "code",
   "execution_count": 5,
   "metadata": {},
   "outputs": [],
   "source": [
    "import os\n",
    "from torch.utils.data import Dataset\n",
    "\n",
    "class FootballData(Dataset):\n",
    "    def __init__(self, path):\n",
    "        raw_data = np.load(path)\n",
    "        self.size = len(raw_data) - 1\n",
    "        if not os.path.isdir(\"./barca_dataset\"):\n",
    "            os.mkdir('./barca_dataset/')\n",
    "        for i, record in enumerate(raw_data):\n",
    "            name = \"./barca_dataset/record\" + str(i) + \".npy\"\n",
    "            if not os.path.isfile(name):\n",
    "                np.save(name, record)\n",
    "\n",
    "    def __len__(self):\n",
    "        return self.size\n",
    "    \n",
    "    def __getitem__(self, idx):\n",
    "        data = np.load(\"./barca_dataset/record\" + str(idx) + \".npy\")\n",
    "        inputs = np.concatenate( (data[9:31], data[32:], data[3:5])).astype(np.float32) #todo we need to check those indecies\n",
    "        inputs = np.array([inputs])\n",
    "        inputs = torch.from_numpy(inputs)\n",
    "        label = np.array([int(float(data[2])-1)])\n",
    "        label = torch.from_numpy(label)\n",
    "        return inputs, label"
   ]
  },
  {
   "cell_type": "code",
   "execution_count": 6,
   "metadata": {
    "tags": []
   },
   "outputs": [],
   "source": [
    "data = FootballData(\"./data.npy\")"
   ]
  },
  {
   "cell_type": "code",
   "execution_count": 7,
   "metadata": {},
   "outputs": [
    {
     "output_type": "stream",
     "name": "stdout",
     "text": [
      "0: torch.Size([1, 46]) -- tensor([1])\n1: torch.Size([1, 46]) -- tensor([1])\n2: torch.Size([1, 46]) -- tensor([1])\n3: torch.Size([1, 46]) -- tensor([1])\n4: torch.Size([1, 46]) -- tensor([1])\n5: torch.Size([1, 46]) -- tensor([1])\n6: torch.Size([1, 46]) -- tensor([1])\n7: torch.Size([1, 46]) -- tensor([1])\n8: torch.Size([1, 46]) -- tensor([1])\n9: torch.Size([1, 46]) -- tensor([1])\n10: torch.Size([1, 46]) -- tensor([1])\n"
     ]
    }
   ],
   "source": [
    "for i, (val, label) in enumerate(data):\n",
    "    print(f\"{i}: {val.size()} -- {label}\")\n",
    "    if i == 10:\n",
    "        break"
   ]
  },
  {
   "cell_type": "code",
   "execution_count": 8,
   "metadata": {},
   "outputs": [],
   "source": [
    "class PossesionClssifier(nn.Module):\n",
    "    def __init__(self):\n",
    "      super(PossesionClssifier,self).__init__()\n",
    "      self.stack = nn.Sequential(\n",
    "        nn.Linear(46, 40),\n",
    "        nn.ReLU(),\n",
    "        nn.Linear(40, 30),\n",
    "        nn.ReLU(),\n",
    "        nn.Linear(30, 30),\n",
    "        nn.ReLU(),\n",
    "        nn.Linear(30, 2),\n",
    "      )\n",
    "    def forward(self,x):\n",
    "      return self.stack(x)\n",
    "\n",
    "model = PossesionClssifier()"
   ]
  },
  {
   "cell_type": "code",
   "execution_count": 9,
   "metadata": {},
   "outputs": [],
   "source": [
    "def train_loop(model, dataloader, loss_fn, optimizer, LOG=False):\n",
    "  loss_data = []\n",
    "  running_loss = 0\n",
    "  for batch, data in enumerate(dataloader,0):\n",
    "    # inputs, label = data[0].to(device), data[1].to(device)\n",
    "    inputs, label = data\n",
    "    optimizer.zero_grad()\n",
    "    prediction = model(inputs)\n",
    "    loss = loss_fn(prediction, label)\n",
    "    loss.backward()\n",
    "    optimizer.step()\n",
    "    running_loss += loss.item()\n",
    "    if batch % 2000 == 1999:\n",
    "      print(f\"loss: {running_loss/(2000)}\")\n",
    "      loss_data.append(running_loss/(2000))\n",
    "      running_loss = 0\n",
    "    if batch == 50_000:\n",
    "       return loss_data"
   ]
  },
  {
   "cell_type": "code",
   "execution_count": 10,
   "metadata": {
    "tags": []
   },
   "outputs": [
    {
     "output_type": "stream",
     "name": "stdout",
     "text": [
      "loss: 0.6485656198859214\n",
      "loss: 0.5798954392969609\n",
      "loss: 0.5519208643436432\n",
      "loss: 0.5068117934316396\n",
      "loss: 0.6431160036623478\n",
      "loss: 0.4366263877153397\n",
      "loss: 0.45855068726837633\n",
      "loss: 0.4407566163986921\n",
      "loss: 0.39175926353037355\n",
      "loss: 0.4343952356427908\n",
      "loss: 0.42041395071148874\n",
      "loss: 0.3602529398202896\n",
      "loss: 0.3235112889930606\n",
      "loss: 0.3439471556097269\n",
      "loss: 0.3395471464172006\n",
      "loss: 0.7164531999379397\n",
      "loss: 0.5854716252461076\n",
      "loss: 0.5663307598754763\n",
      "loss: 0.667516426242888\n",
      "loss: 0.6214796277955175\n",
      "loss: 0.6047835577875376\n",
      "loss: 0.7532578379660845\n",
      "loss: 0.6636421642452478\n",
      "loss: 0.6146758266687393\n",
      "loss: 0.7738805079609156\n"
     ]
    },
    {
     "output_type": "error",
     "ename": "AttributeError",
     "evalue": "module 'matplotlib.pyplot' has no attribute 'shw'",
     "traceback": [
      "\u001b[0;31m---------------------------------------------------------------------------\u001b[0m",
      "\u001b[0;31mAttributeError\u001b[0m                            Traceback (most recent call last)",
      "\u001b[0;32m<ipython-input-10-ebf933fa1902>\u001b[0m in \u001b[0;36m<module>\u001b[0;34m\u001b[0m\n\u001b[1;32m      9\u001b[0m            LOG=False)\n\u001b[1;32m     10\u001b[0m \u001b[0mplt\u001b[0m\u001b[0;34m.\u001b[0m\u001b[0mplot\u001b[0m\u001b[0;34m(\u001b[0m\u001b[0mdata\u001b[0m\u001b[0;34m)\u001b[0m\u001b[0;34m\u001b[0m\u001b[0;34m\u001b[0m\u001b[0m\n\u001b[0;32m---> 11\u001b[0;31m \u001b[0mplt\u001b[0m\u001b[0;34m.\u001b[0m\u001b[0mshw\u001b[0m\u001b[0;34m(\u001b[0m\u001b[0;34m)\u001b[0m\u001b[0;34m\u001b[0m\u001b[0;34m\u001b[0m\u001b[0m\n\u001b[0m",
      "\u001b[0;31mAttributeError\u001b[0m: module 'matplotlib.pyplot' has no attribute 'shw'"
     ]
    }
   ],
   "source": [
    "learning_rate = 0.0001\n",
    "loss_fn = nn.CrossEntropyLoss()\n",
    "optimizer = torch.optim.SGD(model.parameters(), lr=learning_rate)\n",
    "\n",
    "data = train_loop(model=model,\n",
    "           dataloader=data,\n",
    "           loss_fn=loss_fn,\n",
    "           optimizer=optimizer,\n",
    "           LOG=False)\n",
    "plt.plot(data)\n",
    "plt.shw()"
   ]
  },
  {
   "cell_type": "code",
   "execution_count": 12,
   "metadata": {},
   "outputs": [
    {
     "output_type": "execute_result",
     "data": {
      "text/plain": [
       "[<matplotlib.lines.Line2D at 0x7f4a45085e50>]"
      ]
     },
     "metadata": {},
     "execution_count": 12
    },
    {
     "output_type": "display_data",
     "data": {
      "text/plain": "<Figure size 432x288 with 1 Axes>",
      "image/svg+xml": "<?xml version=\"1.0\" encoding=\"utf-8\" standalone=\"no\"?>\n<!DOCTYPE svg PUBLIC \"-//W3C//DTD SVG 1.1//EN\"\n  \"http://www.w3.org/Graphics/SVG/1.1/DTD/svg11.dtd\">\n<svg height=\"248.518125pt\" version=\"1.1\" viewBox=\"0 0 375.929261 248.518125\" width=\"375.929261pt\" xmlns=\"http://www.w3.org/2000/svg\" xmlns:xlink=\"http://www.w3.org/1999/xlink\">\n <metadata>\n  <rdf:RDF xmlns:cc=\"http://creativecommons.org/ns#\" xmlns:dc=\"http://purl.org/dc/elements/1.1/\" xmlns:rdf=\"http://www.w3.org/1999/02/22-rdf-syntax-ns#\">\n   <cc:Work>\n    <dc:type rdf:resource=\"http://purl.org/dc/dcmitype/StillImage\"/>\n    <dc:date>2021-05-31T01:32:50.349888</dc:date>\n    <dc:format>image/svg+xml</dc:format>\n    <dc:creator>\n     <cc:Agent>\n      <dc:title>Matplotlib v3.4.1, https://matplotlib.org/</dc:title>\n     </cc:Agent>\n    </dc:creator>\n   </cc:Work>\n  </rdf:RDF>\n </metadata>\n <defs>\n  <style type=\"text/css\">*{stroke-linecap:butt;stroke-linejoin:round;}</style>\n </defs>\n <g id=\"figure_1\">\n  <g id=\"patch_1\">\n   <path d=\"M 0 248.518125 \nL 375.929261 248.518125 \nL 375.929261 0 \nL 0 0 \nz\n\" style=\"fill:none;\"/>\n  </g>\n  <g id=\"axes_1\">\n   <g id=\"patch_2\">\n    <path d=\"M 30.103125 224.64 \nL 364.903125 224.64 \nL 364.903125 7.2 \nL 30.103125 7.2 \nz\n\" style=\"fill:#ffffff;\"/>\n   </g>\n   <g id=\"matplotlib.axis_1\">\n    <g id=\"xtick_1\">\n     <g id=\"line2d_1\">\n      <defs>\n       <path d=\"M 0 0 \nL 0 3.5 \n\" id=\"m3737590ede\" style=\"stroke:#000000;stroke-width:0.8;\"/>\n      </defs>\n      <g>\n       <use style=\"stroke:#000000;stroke-width:0.8;\" x=\"45.321307\" xlink:href=\"#m3737590ede\" y=\"224.64\"/>\n      </g>\n     </g>\n     <g id=\"text_1\">\n      <!-- 0 -->\n      <g transform=\"translate(42.140057 239.238437)scale(0.1 -0.1)\">\n       <defs>\n        <path d=\"M 2034 4250 \nQ 1547 4250 1301 3770 \nQ 1056 3291 1056 2328 \nQ 1056 1369 1301 889 \nQ 1547 409 2034 409 \nQ 2525 409 2770 889 \nQ 3016 1369 3016 2328 \nQ 3016 3291 2770 3770 \nQ 2525 4250 2034 4250 \nz\nM 2034 4750 \nQ 2819 4750 3233 4129 \nQ 3647 3509 3647 2328 \nQ 3647 1150 3233 529 \nQ 2819 -91 2034 -91 \nQ 1250 -91 836 529 \nQ 422 1150 422 2328 \nQ 422 3509 836 4129 \nQ 1250 4750 2034 4750 \nz\n\" id=\"DejaVuSans-30\" transform=\"scale(0.015625)\"/>\n       </defs>\n       <use xlink:href=\"#DejaVuSans-30\"/>\n      </g>\n     </g>\n    </g>\n    <g id=\"xtick_2\">\n     <g id=\"line2d_2\">\n      <g>\n       <use style=\"stroke:#000000;stroke-width:0.8;\" x=\"108.730398\" xlink:href=\"#m3737590ede\" y=\"224.64\"/>\n      </g>\n     </g>\n     <g id=\"text_2\">\n      <!-- 5 -->\n      <g transform=\"translate(105.549148 239.238437)scale(0.1 -0.1)\">\n       <defs>\n        <path d=\"M 691 4666 \nL 3169 4666 \nL 3169 4134 \nL 1269 4134 \nL 1269 2991 \nQ 1406 3038 1543 3061 \nQ 1681 3084 1819 3084 \nQ 2600 3084 3056 2656 \nQ 3513 2228 3513 1497 \nQ 3513 744 3044 326 \nQ 2575 -91 1722 -91 \nQ 1428 -91 1123 -41 \nQ 819 9 494 109 \nL 494 744 \nQ 775 591 1075 516 \nQ 1375 441 1709 441 \nQ 2250 441 2565 725 \nQ 2881 1009 2881 1497 \nQ 2881 1984 2565 2268 \nQ 2250 2553 1709 2553 \nQ 1456 2553 1204 2497 \nQ 953 2441 691 2322 \nL 691 4666 \nz\n\" id=\"DejaVuSans-35\" transform=\"scale(0.015625)\"/>\n       </defs>\n       <use xlink:href=\"#DejaVuSans-35\"/>\n      </g>\n     </g>\n    </g>\n    <g id=\"xtick_3\">\n     <g id=\"line2d_3\">\n      <g>\n       <use style=\"stroke:#000000;stroke-width:0.8;\" x=\"172.139489\" xlink:href=\"#m3737590ede\" y=\"224.64\"/>\n      </g>\n     </g>\n     <g id=\"text_3\">\n      <!-- 10 -->\n      <g transform=\"translate(165.776989 239.238437)scale(0.1 -0.1)\">\n       <defs>\n        <path d=\"M 794 531 \nL 1825 531 \nL 1825 4091 \nL 703 3866 \nL 703 4441 \nL 1819 4666 \nL 2450 4666 \nL 2450 531 \nL 3481 531 \nL 3481 0 \nL 794 0 \nL 794 531 \nz\n\" id=\"DejaVuSans-31\" transform=\"scale(0.015625)\"/>\n       </defs>\n       <use xlink:href=\"#DejaVuSans-31\"/>\n       <use x=\"63.623047\" xlink:href=\"#DejaVuSans-30\"/>\n      </g>\n     </g>\n    </g>\n    <g id=\"xtick_4\">\n     <g id=\"line2d_4\">\n      <g>\n       <use style=\"stroke:#000000;stroke-width:0.8;\" x=\"235.54858\" xlink:href=\"#m3737590ede\" y=\"224.64\"/>\n      </g>\n     </g>\n     <g id=\"text_4\">\n      <!-- 15 -->\n      <g transform=\"translate(229.18608 239.238437)scale(0.1 -0.1)\">\n       <use xlink:href=\"#DejaVuSans-31\"/>\n       <use x=\"63.623047\" xlink:href=\"#DejaVuSans-35\"/>\n      </g>\n     </g>\n    </g>\n    <g id=\"xtick_5\">\n     <g id=\"line2d_5\">\n      <g>\n       <use style=\"stroke:#000000;stroke-width:0.8;\" x=\"298.95767\" xlink:href=\"#m3737590ede\" y=\"224.64\"/>\n      </g>\n     </g>\n     <g id=\"text_5\">\n      <!-- 20 -->\n      <g transform=\"translate(292.59517 239.238437)scale(0.1 -0.1)\">\n       <defs>\n        <path d=\"M 1228 531 \nL 3431 531 \nL 3431 0 \nL 469 0 \nL 469 531 \nQ 828 903 1448 1529 \nQ 2069 2156 2228 2338 \nQ 2531 2678 2651 2914 \nQ 2772 3150 2772 3378 \nQ 2772 3750 2511 3984 \nQ 2250 4219 1831 4219 \nQ 1534 4219 1204 4116 \nQ 875 4013 500 3803 \nL 500 4441 \nQ 881 4594 1212 4672 \nQ 1544 4750 1819 4750 \nQ 2544 4750 2975 4387 \nQ 3406 4025 3406 3419 \nQ 3406 3131 3298 2873 \nQ 3191 2616 2906 2266 \nQ 2828 2175 2409 1742 \nQ 1991 1309 1228 531 \nz\n\" id=\"DejaVuSans-32\" transform=\"scale(0.015625)\"/>\n       </defs>\n       <use xlink:href=\"#DejaVuSans-32\"/>\n       <use x=\"63.623047\" xlink:href=\"#DejaVuSans-30\"/>\n      </g>\n     </g>\n    </g>\n    <g id=\"xtick_6\">\n     <g id=\"line2d_6\">\n      <g>\n       <use style=\"stroke:#000000;stroke-width:0.8;\" x=\"362.366761\" xlink:href=\"#m3737590ede\" y=\"224.64\"/>\n      </g>\n     </g>\n     <g id=\"text_6\">\n      <!-- 25 -->\n      <g transform=\"translate(356.004261 239.238437)scale(0.1 -0.1)\">\n       <use xlink:href=\"#DejaVuSans-32\"/>\n       <use x=\"63.623047\" xlink:href=\"#DejaVuSans-35\"/>\n      </g>\n     </g>\n    </g>\n   </g>\n   <g id=\"matplotlib.axis_2\">\n    <g id=\"ytick_1\">\n     <g id=\"line2d_7\">\n      <defs>\n       <path d=\"M 0 0 \nL -3.5 0 \n\" id=\"m0f0f1a6bec\" style=\"stroke:#000000;stroke-width:0.8;\"/>\n      </defs>\n      <g>\n       <use style=\"stroke:#000000;stroke-width:0.8;\" x=\"30.103125\" xlink:href=\"#m0f0f1a6bec\" y=\"181.184504\"/>\n      </g>\n     </g>\n     <g id=\"text_7\">\n      <!-- 0.4 -->\n      <g transform=\"translate(7.2 184.983723)scale(0.1 -0.1)\">\n       <defs>\n        <path d=\"M 684 794 \nL 1344 794 \nL 1344 0 \nL 684 0 \nL 684 794 \nz\n\" id=\"DejaVuSans-2e\" transform=\"scale(0.015625)\"/>\n        <path d=\"M 2419 4116 \nL 825 1625 \nL 2419 1625 \nL 2419 4116 \nz\nM 2253 4666 \nL 3047 4666 \nL 3047 1625 \nL 3713 1625 \nL 3713 1100 \nL 3047 1100 \nL 3047 0 \nL 2419 0 \nL 2419 1100 \nL 313 1100 \nL 313 1709 \nL 2253 4666 \nz\n\" id=\"DejaVuSans-34\" transform=\"scale(0.015625)\"/>\n       </defs>\n       <use xlink:href=\"#DejaVuSans-30\"/>\n       <use x=\"63.623047\" xlink:href=\"#DejaVuSans-2e\"/>\n       <use x=\"95.410156\" xlink:href=\"#DejaVuSans-34\"/>\n      </g>\n     </g>\n    </g>\n    <g id=\"ytick_2\">\n     <g id=\"line2d_8\">\n      <g>\n       <use style=\"stroke:#000000;stroke-width:0.8;\" x=\"30.103125\" xlink:href=\"#m0f0f1a6bec\" y=\"137.293244\"/>\n      </g>\n     </g>\n     <g id=\"text_8\">\n      <!-- 0.5 -->\n      <g transform=\"translate(7.2 141.092462)scale(0.1 -0.1)\">\n       <use xlink:href=\"#DejaVuSans-30\"/>\n       <use x=\"63.623047\" xlink:href=\"#DejaVuSans-2e\"/>\n       <use x=\"95.410156\" xlink:href=\"#DejaVuSans-35\"/>\n      </g>\n     </g>\n    </g>\n    <g id=\"ytick_3\">\n     <g id=\"line2d_9\">\n      <g>\n       <use style=\"stroke:#000000;stroke-width:0.8;\" x=\"30.103125\" xlink:href=\"#m0f0f1a6bec\" y=\"93.401983\"/>\n      </g>\n     </g>\n     <g id=\"text_9\">\n      <!-- 0.6 -->\n      <g transform=\"translate(7.2 97.201202)scale(0.1 -0.1)\">\n       <defs>\n        <path d=\"M 2113 2584 \nQ 1688 2584 1439 2293 \nQ 1191 2003 1191 1497 \nQ 1191 994 1439 701 \nQ 1688 409 2113 409 \nQ 2538 409 2786 701 \nQ 3034 994 3034 1497 \nQ 3034 2003 2786 2293 \nQ 2538 2584 2113 2584 \nz\nM 3366 4563 \nL 3366 3988 \nQ 3128 4100 2886 4159 \nQ 2644 4219 2406 4219 \nQ 1781 4219 1451 3797 \nQ 1122 3375 1075 2522 \nQ 1259 2794 1537 2939 \nQ 1816 3084 2150 3084 \nQ 2853 3084 3261 2657 \nQ 3669 2231 3669 1497 \nQ 3669 778 3244 343 \nQ 2819 -91 2113 -91 \nQ 1303 -91 875 529 \nQ 447 1150 447 2328 \nQ 447 3434 972 4092 \nQ 1497 4750 2381 4750 \nQ 2619 4750 2861 4703 \nQ 3103 4656 3366 4563 \nz\n\" id=\"DejaVuSans-36\" transform=\"scale(0.015625)\"/>\n       </defs>\n       <use xlink:href=\"#DejaVuSans-30\"/>\n       <use x=\"63.623047\" xlink:href=\"#DejaVuSans-2e\"/>\n       <use x=\"95.410156\" xlink:href=\"#DejaVuSans-36\"/>\n      </g>\n     </g>\n    </g>\n    <g id=\"ytick_4\">\n     <g id=\"line2d_10\">\n      <g>\n       <use style=\"stroke:#000000;stroke-width:0.8;\" x=\"30.103125\" xlink:href=\"#m0f0f1a6bec\" y=\"49.510723\"/>\n      </g>\n     </g>\n     <g id=\"text_10\">\n      <!-- 0.7 -->\n      <g transform=\"translate(7.2 53.309941)scale(0.1 -0.1)\">\n       <defs>\n        <path d=\"M 525 4666 \nL 3525 4666 \nL 3525 4397 \nL 1831 0 \nL 1172 0 \nL 2766 4134 \nL 525 4134 \nL 525 4666 \nz\n\" id=\"DejaVuSans-37\" transform=\"scale(0.015625)\"/>\n       </defs>\n       <use xlink:href=\"#DejaVuSans-30\"/>\n       <use x=\"63.623047\" xlink:href=\"#DejaVuSans-2e\"/>\n       <use x=\"95.410156\" xlink:href=\"#DejaVuSans-37\"/>\n      </g>\n     </g>\n    </g>\n   </g>\n   <g id=\"line2d_11\">\n    <path clip-path=\"url(#p45c6a96ae6)\" d=\"M 45.321307 72.08592 \nL 58.003125 102.226128 \nL 70.684943 114.504522 \nL 83.366761 134.303462 \nL 96.04858 74.477826 \nL 108.730398 165.108721 \nL 121.412216 155.48587 \nL 134.094034 163.295912 \nL 146.775852 184.801467 \nL 159.45767 166.088002 \nL 172.139489 172.224564 \nL 184.821307 198.62999 \nL 197.503125 214.756364 \nL 210.184943 205.786804 \nL 222.866761 207.718024 \nL 235.54858 42.289206 \nL 248.230398 99.77867 \nL 260.912216 108.179837 \nL 273.594034 63.768173 \nL 286.275852 83.974304 \nL 298.95767 91.302419 \nL 311.639489 26.135186 \nL 324.321307 65.468635 \nL 337.003125 86.960578 \nL 349.684943 17.083636 \n\" style=\"fill:none;stroke:#1f77b4;stroke-linecap:square;stroke-width:1.5;\"/>\n   </g>\n   <g id=\"patch_3\">\n    <path d=\"M 30.103125 224.64 \nL 30.103125 7.2 \n\" style=\"fill:none;stroke:#000000;stroke-linecap:square;stroke-linejoin:miter;stroke-width:0.8;\"/>\n   </g>\n   <g id=\"patch_4\">\n    <path d=\"M 364.903125 224.64 \nL 364.903125 7.2 \n\" style=\"fill:none;stroke:#000000;stroke-linecap:square;stroke-linejoin:miter;stroke-width:0.8;\"/>\n   </g>\n   <g id=\"patch_5\">\n    <path d=\"M 30.103125 224.64 \nL 364.903125 224.64 \n\" style=\"fill:none;stroke:#000000;stroke-linecap:square;stroke-linejoin:miter;stroke-width:0.8;\"/>\n   </g>\n   <g id=\"patch_6\">\n    <path d=\"M 30.103125 7.2 \nL 364.903125 7.2 \n\" style=\"fill:none;stroke:#000000;stroke-linecap:square;stroke-linejoin:miter;stroke-width:0.8;\"/>\n   </g>\n  </g>\n </g>\n <defs>\n  <clipPath id=\"p45c6a96ae6\">\n   <rect height=\"217.44\" width=\"334.8\" x=\"30.103125\" y=\"7.2\"/>\n  </clipPath>\n </defs>\n</svg>\n",
      "image/png": "[encoded data removed]"
     },
     "metadata": {
      "needs_background": "light"
     }
    }
   ],
   "source": [
    "plt.plot(data)"
   ]
  },
  {
   "cell_type": "code",
   "execution_count": null,
   "metadata": {},
   "outputs": [],
   "source": []
  },
  {
   "cell_type": "code",
   "execution_count": null,
   "metadata": {},
   "outputs": [],
   "source": []
  },
  {
   "cell_type": "code",
   "execution_count": null,
   "metadata": {},
   "outputs": [],
   "source": []
  }
 ]
}