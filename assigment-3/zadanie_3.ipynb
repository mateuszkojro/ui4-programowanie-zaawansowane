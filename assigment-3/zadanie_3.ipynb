{
 "cells": [
  {
   "cell_type": "code",
   "execution_count": 1,
   "metadata": {},
   "outputs": [],
   "source": [
    "import torch \n",
    "import torchvision\n",
    "import torch.nn as nn\n",
    "import torch.nn.functional as functional\n",
    "import numpy as np\n",
    "import matplotlib.pyplot as plt\n",
    "import random"
   ]
  },
  {
   "cell_type": "markdown",
   "metadata": {},
   "source": [
    "# Lets create labels for our dataset"
   ]
  },
  {
   "cell_type": "code",
   "execution_count": 2,
   "metadata": {
    "scrolled": true
   },
   "outputs": [],
   "source": [
    "classes = ['frame_num', 'action', 'team_controlling_ball', 'ball_x', 'ball_y', 'num_players_team1', 'num_players_team2', 'scene', 'no_team1_players']\n",
    "\n",
    "for i in range(11):\n",
    "    classes.append('team1_player' + str(i) + 'x')\n",
    "    classes.append('team1_player' + str(i) + 'y')\n",
    "\n",
    "classes.append('no_team1_players')\n",
    "\n",
    "for i in range(11):\n",
    "    classes.append('team2_player' + str(i) + 'x')\n",
    "    classes.append('team2_player' + str(i) + 'y')\n",
    "    \n",
    "class_by_name = {} \n",
    "for i, item in enumerate(classes):\n",
    "    class_by_name[item] = i"
   ]
  },
  {
   "cell_type": "markdown",
   "metadata": {},
   "source": [
    "### Now we can printout an example row in our dataset"
   ]
  },
  {
   "cell_type": "code",
   "execution_count": 3,
   "metadata": {},
   "outputs": [
    {
     "name": "stdout",
     "output_type": "stream",
     "text": [
      "idx 0\t name: frame_num\t\t\tvalue: 8707.0\n",
      "idx 1\t name: action\t\t\tvalue: 19\n",
      "idx 2\t name: team_controlling_ball\t\t\tvalue: 2.0\n",
      "idx 3\t name: ball_x\t\t\tvalue: 0.4796875\n",
      "idx 4\t name: ball_y\t\t\tvalue: 0.5388888888888889\n",
      "idx 5\t name: num_players_team1\t\t\tvalue: 6.0\n",
      "idx 6\t name: num_players_team2\t\t\tvalue: 11.0\n",
      "idx 7\t name: scene\t\t\tvalue: Midfield\n",
      "idx 8\t name: no_team1_players\t\t\tvalue: 6.0\n",
      "idx 9\t name: team1_player0x\t\t\tvalue: 0.809375\n",
      "idx 10\t name: team1_player0y\t\t\tvalue: 0.3763888888888889\n",
      "idx 11\t name: team1_player1x\t\t\tvalue: 0.96875\n",
      "idx 12\t name: team1_player1y\t\t\tvalue: 0.6041666666666666\n",
      "idx 13\t name: team1_player2x\t\t\tvalue: 0.4640625\n",
      "idx 14\t name: team1_player2y\t\t\tvalue: 0.40694444444444444\n",
      "idx 15\t name: team1_player3x\t\t\tvalue: 0.78828125\n",
      "idx 16\t name: team1_player3y\t\t\tvalue: 0.45416666666666666\n",
      "idx 17\t name: team1_player4x\t\t\tvalue: 0.4390625\n",
      "idx 18\t name: team1_player4y\t\t\tvalue: 0.44166666666666665\n",
      "idx 19\t name: team1_player5x\t\t\tvalue: 0.71171875\n",
      "idx 20\t name: team1_player5y\t\t\tvalue: 0.49027777777777776\n",
      "idx 21\t name: team1_player6x\t\t\tvalue: 0.0\n",
      "idx 22\t name: team1_player6y\t\t\tvalue: 0.0\n",
      "idx 23\t name: team1_player7x\t\t\tvalue: 0.0\n",
      "idx 24\t name: team1_player7y\t\t\tvalue: 0.0\n",
      "idx 25\t name: team1_player8x\t\t\tvalue: 0.0\n",
      "idx 26\t name: team1_player8y\t\t\tvalue: 0.0\n",
      "idx 27\t name: team1_player9x\t\t\tvalue: 0.0\n",
      "idx 28\t name: team1_player9y\t\t\tvalue: 0.0\n",
      "idx 29\t name: team1_player10x\t\t\tvalue: 0.0\n",
      "idx 30\t name: team1_player10y\t\t\tvalue: 0.0\n",
      "idx 31\t name: no_team1_players\t\t\tvalue: 11.0\n",
      "idx 32\t name: team2_player0x\t\t\tvalue: 0.56796875\n",
      "idx 33\t name: team2_player0y\t\t\tvalue: 0.575\n",
      "idx 34\t name: team2_player1x\t\t\tvalue: 0.021875\n",
      "idx 35\t name: team2_player1y\t\t\tvalue: 0.7708333333333334\n",
      "idx 36\t name: team2_player2x\t\t\tvalue: 0.99765625\n",
      "idx 37\t name: team2_player2y\t\t\tvalue: 0.49583333333333335\n",
      "idx 38\t name: team2_player3x\t\t\tvalue: 0.6859375\n",
      "idx 39\t name: team2_player3y\t\t\tvalue: 0.36666666666666664\n",
      "idx 40\t name: team2_player4x\t\t\tvalue: 0.56328125\n",
      "idx 41\t name: team2_player4y\t\t\tvalue: 0.5819444444444445\n",
      "idx 42\t name: team2_player5x\t\t\tvalue: 0.79296875\n",
      "idx 43\t name: team2_player5y\t\t\tvalue: 0.6166666666666667\n",
      "idx 44\t name: team2_player6x\t\t\tvalue: 0.86953125\n",
      "idx 45\t name: team2_player6y\t\t\tvalue: 0.47638888888888886\n",
      "idx 46\t name: team2_player7x\t\t\tvalue: 0.384375\n",
      "idx 47\t name: team2_player7y\t\t\tvalue: 0.41388888888888886\n",
      "idx 48\t name: team2_player8x\t\t\tvalue: 0.41640625\n",
      "idx 49\t name: team2_player8y\t\t\tvalue: 0.44305555555555554\n",
      "idx 50\t name: team2_player9x\t\t\tvalue: 0.1328125\n",
      "idx 51\t name: team2_player9y\t\t\tvalue: 0.40555555555555556\n",
      "idx 52\t name: team2_player10x\t\t\tvalue: 0.484375\n",
      "idx 53\t name: team2_player10y\t\t\tvalue: 0.5472222222222223\n"
     ]
    }
   ],
   "source": [
    "for i, value in enumerate(np.load(\"data.npy\")[0]):\n",
    "    print(f\"idx {i}\\t name: {classes[i]}\\t\\t\\tvalue: {value}\")"
   ]
  },
  {
   "cell_type": "markdown",
   "metadata": {},
   "source": [
    "# Creating custom dataloader with support for\n",
    "- changing the input file\n",
    "- changin the output folder\n",
    "- shuffle of the data on/off\n"
   ]
  },
  {
   "cell_type": "code",
   "execution_count": 4,
   "metadata": {},
   "outputs": [],
   "source": [
    "import os\n",
    "from torch.utils.data import Dataset\n",
    "\n",
    "class FootballData(Dataset):\n",
    "\n",
    "    def idx_to_name(self, idx):\n",
    "        return f\"{self.out_path}/record{idx}.npy\"\n",
    "    \n",
    "    def __init__(self, path, out_path='./barca_dataset', shuffle=False):\n",
    "        self.out_path = out_path\n",
    "        self.shuffle = shuffle\n",
    "        raw_data = np.load(path)\n",
    "        self.size = len(raw_data) - 1\n",
    "        if not os.path.isdir(self.out_path):\n",
    "            os.mkdir(self.out_path)\n",
    "        for i, record in enumerate(raw_data):\n",
    "            name = self.idx_to_name(i)\n",
    "            if not os.path.isfile(name):\n",
    "                np.save(name, record)\n",
    "\n",
    "    def __len__(self):\n",
    "        return self.size\n",
    "\n",
    "    def __getitem__(self, idx):\n",
    "        if self.shuffle:\n",
    "            idx = random.randint(0, self.size)\n",
    "        data = np.load(self.idx_to_name(idx))\n",
    "        inputs = torch.tensor([[[float(data[3]),float(data[4])]]], dtype=torch.float)\n",
    "    \n",
    "        label = torch.tensor([int(data[1])])\n",
    "        return inputs.float(), label"
   ]
  },
  {
   "cell_type": "code",
   "execution_count": 5,
   "metadata": {
    "tags": []
   },
   "outputs": [],
   "source": [
    "data_loader = FootballData(\"./data.npy\", out_path=\"data_unloaded\")"
   ]
  },
  {
   "cell_type": "markdown",
   "metadata": {},
   "source": [
    "# Creating our CNN\n",
    "\n",
    "We will take the position of the ball as an input and the action will be our label"
   ]
  },
  {
   "cell_type": "code",
   "execution_count": 6,
   "metadata": {},
   "outputs": [],
   "source": [
    "class ActionClssifier(nn.Module):\n",
    "    def __init__(self):\n",
    "      super(ActionClssifier, self).__init__()\n",
    "      self.stack = nn.Sequential(\n",
    "        nn.Conv1d(1,1,1),\n",
    "        nn.ReLU(),\n",
    "        nn.MaxPool1d(1),\n",
    "        nn.ReLU(),\n",
    "        nn.Linear(2,30,bias=False),\n",
    "        nn.ReLU(),\n",
    "        nn.Linear(30,30,bias=False),\n",
    "        nn.Softmax(dim=1),\n",
    "        nn.Linear(30, 41),\n",
    "      )\n",
    "    def forward(self,x):\n",
    "      return self.stack(x)\n",
    "\n",
    "model = ActionClssifier()"
   ]
  },
  {
   "cell_type": "markdown",
   "metadata": {},
   "source": [
    "# Creating cutsom training function"
   ]
  },
  {
   "cell_type": "code",
   "execution_count": 7,
   "metadata": {},
   "outputs": [],
   "source": [
    "def train_loop(model, dataloader, loss_fn, optimizer, untill=50_000, log_freq=2000):\n",
    "  loss_data = []\n",
    "  running_loss = 0\n",
    "  for batch, data in enumerate(dataloader,0):\n",
    "    # inputs, label = data[0].to(device), data[1].to(device)\n",
    "    inputs, label = data\n",
    "    optimizer.zero_grad()\n",
    "    prediction = model(inputs)\n",
    "    loss = loss_fn(prediction.view(1, 41), label).float()\n",
    "    loss.backward()\n",
    "    optimizer.step()\n",
    "    running_loss += loss.item()\n",
    "    if batch % log_freq == log_freq-1:\n",
    "        temp_loss = running_loss/(log_freq)\n",
    "        print(f\"Loss: {temp_loss:.4f},\\t{100 * batch/len(dataloader):.0f}% of data complete\")\n",
    "        loss_data.append(temp_loss)\n",
    "        running_loss = 0\n",
    "    if batch == untill:\n",
    "       return loss_data"
   ]
  },
  {
   "cell_type": "markdown",
   "metadata": {},
   "source": [
    "### Now we can train our network\n",
    "\n",
    "Unfortunetly despite many attempts i was not able to train the network to any accebtable results 😥 "
   ]
  },
  {
   "cell_type": "code",
   "execution_count": 8,
   "metadata": {
    "scrolled": true,
    "tags": []
   },
   "outputs": [
    {
     "name": "stdout",
     "output_type": "stream",
     "text": [
      "Loss: 1.9267,\t4% of data complete\n",
      "Loss: 2.2346,\t8% of data complete\n",
      "Loss: 2.0747,\t12% of data complete\n",
      "Loss: 2.3912,\t16% of data complete\n",
      "Loss: 1.7464,\t20% of data complete\n",
      "Loss: 1.7431,\t23% of data complete\n",
      "Loss: 2.1982,\t27% of data complete\n",
      "Loss: 2.1572,\t31% of data complete\n",
      "Loss: 1.9117,\t35% of data complete\n",
      "Loss: 1.9492,\t39% of data complete\n",
      "Loss: 2.3997,\t43% of data complete\n",
      "Loss: 1.5183,\t47% of data complete\n",
      "Loss: 1.8273,\t51% of data complete\n",
      "Loss: 1.6497,\t55% of data complete\n",
      "Loss: 1.5280,\t59% of data complete\n",
      "Loss: 1.6779,\t63% of data complete\n",
      "Loss: 1.9050,\t66% of data complete\n",
      "Loss: 2.2163,\t70% of data complete\n",
      "Loss: 2.1945,\t74% of data complete\n",
      "Loss: 2.0340,\t78% of data complete\n",
      "Loss: 1.9870,\t82% of data complete\n",
      "Loss: 1.7505,\t86% of data complete\n",
      "Loss: 1.9529,\t90% of data complete\n",
      "Loss: 1.8110,\t94% of data complete\n",
      "Loss: 2.4043,\t98% of data complete\n",
      "Loss: 1.8935,\t4% of data complete\n",
      "Loss: 2.2261,\t8% of data complete\n",
      "Loss: 2.0696,\t12% of data complete\n",
      "Loss: 2.3886,\t16% of data complete\n",
      "Loss: 1.7464,\t20% of data complete\n",
      "Loss: 1.7412,\t23% of data complete\n",
      "Loss: 2.1960,\t27% of data complete\n",
      "Loss: 2.1563,\t31% of data complete\n",
      "Loss: 1.9164,\t35% of data complete\n",
      "Loss: 1.9487,\t39% of data complete\n",
      "Loss: 2.3996,\t43% of data complete\n",
      "Loss: 1.5178,\t47% of data complete\n",
      "Loss: 1.8271,\t51% of data complete\n",
      "Loss: 1.6494,\t55% of data complete\n",
      "Loss: 1.5278,\t59% of data complete\n",
      "Loss: 1.6779,\t63% of data complete\n",
      "Loss: 1.9048,\t66% of data complete\n",
      "Loss: 2.2162,\t70% of data complete\n",
      "Loss: 2.1954,\t74% of data complete\n",
      "Loss: 2.0335,\t78% of data complete\n",
      "Loss: 1.9873,\t82% of data complete\n",
      "Loss: 1.7508,\t86% of data complete\n",
      "Loss: 1.9526,\t90% of data complete\n",
      "Loss: 1.8109,\t94% of data complete\n",
      "Loss: 2.4041,\t98% of data complete\n"
     ]
    }
   ],
   "source": [
    "learning_rate = 0.001\n",
    "loss_fn = nn.CrossEntropyLoss()\n",
    "\n",
    "optimizer = torch.optim.SGD(model.parameters(), lr=learning_rate, momentum=0.9)\n",
    "\n",
    "data = []\n",
    "data += train_loop(model=model,\n",
    "           dataloader=data_loader,\n",
    "           loss_fn=loss_fn,\n",
    "           optimizer=optimizer)\n",
    "\n",
    "data += train_loop(model=model,\n",
    "           dataloader=data_loader,\n",
    "           loss_fn=loss_fn,\n",
    "           optimizer=optimizer)"
   ]
  },
  {
   "cell_type": "markdown",
   "metadata": {},
   "source": [
    "### Lets plot the results"
   ]
  },
  {
   "cell_type": "code",
   "execution_count": 9,
   "metadata": {
    "scrolled": false,
    "tags": []
   },
   "outputs": [
    {
     "data": {
      "image/png": "[encoded data removed]",
      "text/plain": [
       "<Figure size 432x288 with 1 Axes>"
      ]
     },
     "metadata": {
      "needs_background": "light"
     },
     "output_type": "display_data"
    }
   ],
   "source": [
    "plt.yscale('linear')\n",
    "plt.title(\"Loss over time\")\n",
    "plt.xlabel(\"Iteration times 2000\")\n",
    "plt.ylabel(\"Loss\")\n",
    "plt.plot(data, color=\"r\")\n",
    "plt.show()"
   ]
  },
  {
   "cell_type": "markdown",
   "metadata": {},
   "source": [
    "### And check the accuracy..."
   ]
  },
  {
   "cell_type": "code",
   "execution_count": 10,
   "metadata": {},
   "outputs": [
    {
     "name": "stdout",
     "output_type": "stream",
     "text": [
      "Performance 0.07671704236641967\n"
     ]
    }
   ],
   "source": [
    "acc = 0\n",
    "for batch, data in enumerate(data_loader):\n",
    "    inputs, label = data\n",
    "    prediction = model(inputs)\n",
    "    prediction = prediction.detach().numpy()\n",
    "    \n",
    "    if np.argmax(prediction) == label.item():\n",
    "        acc +=1\n",
    "\n",
    "    if batch == len(data_loader)-1:\n",
    "        break\n",
    "        \n",
    "import statistics\n",
    "print(f\"Performance {acc/(len(data_loader)-1)}\")"
   ]
  }
 ],
 "metadata": {
  "kernelspec": {
   "display_name": "Python 3",
   "language": "python",
   "name": "python3"
  },
  "language_info": {
   "codemirror_mode": {
    "name": "ipython",
    "version": 3
   },
   "file_extension": ".py",
   "mimetype": "text/x-python",
   "name": "python",
   "nbconvert_exporter": "python",
   "pygments_lexer": "ipython3",
   "version": "3.9.5"
  }
 },
 "nbformat": 4,
 "nbformat_minor": 2
}
